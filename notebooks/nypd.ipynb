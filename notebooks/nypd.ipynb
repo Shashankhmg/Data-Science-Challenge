{
 "cells": [
  {
   "cell_type": "markdown",
   "metadata": {},
   "source": [
    "# Data Cleaning"
   ]
  },
  {
   "cell_type": "code",
   "execution_count": 62,
   "metadata": {},
   "outputs": [
    {
     "name": "stderr",
     "output_type": "stream",
     "text": [
      "/var/folders/tw/yc01l_99601d14ks8nxwg1dr0000gn/T/ipykernel_88113/3332287003.py:4: DtypeWarning: Columns (3) have mixed types. Specify dtype option on import or set low_memory=False.\n",
      "  nypd_data = pd.read_csv(\"/Users/shashankhmg/Documents/AXA-Casestudy/Data-Science-Challenge/data/raw/nypd/Motor_Vehicle_Collisions_-_Crashes_20250218.csv\")\n"
     ]
    }
   ],
   "source": [
    "import pandas as pd\n",
    "\n",
    "# Load the NYPD dataset\n",
    "nypd_data = pd.read_csv(\"/Users/shashankhmg/Documents/AXA-Casestudy/Data-Science-Challenge/data/raw/nypd/Motor_Vehicle_Collisions_-_Crashes_20250218.csv\")"
   ]
  },
  {
   "cell_type": "code",
   "execution_count": 63,
   "metadata": {},
   "outputs": [
    {
     "data": {
      "text/html": [
       "<div>\n",
       "<style scoped>\n",
       "    .dataframe tbody tr th:only-of-type {\n",
       "        vertical-align: middle;\n",
       "    }\n",
       "\n",
       "    .dataframe tbody tr th {\n",
       "        vertical-align: top;\n",
       "    }\n",
       "\n",
       "    .dataframe thead th {\n",
       "        text-align: right;\n",
       "    }\n",
       "</style>\n",
       "<table border=\"1\" class=\"dataframe\">\n",
       "  <thead>\n",
       "    <tr style=\"text-align: right;\">\n",
       "      <th></th>\n",
       "      <th>CRASH DATE</th>\n",
       "      <th>CRASH TIME</th>\n",
       "      <th>BOROUGH</th>\n",
       "      <th>ZIP CODE</th>\n",
       "      <th>LATITUDE</th>\n",
       "      <th>LONGITUDE</th>\n",
       "      <th>LOCATION</th>\n",
       "      <th>ON STREET NAME</th>\n",
       "      <th>CROSS STREET NAME</th>\n",
       "      <th>OFF STREET NAME</th>\n",
       "      <th>...</th>\n",
       "      <th>CONTRIBUTING FACTOR VEHICLE 2</th>\n",
       "      <th>CONTRIBUTING FACTOR VEHICLE 3</th>\n",
       "      <th>CONTRIBUTING FACTOR VEHICLE 4</th>\n",
       "      <th>CONTRIBUTING FACTOR VEHICLE 5</th>\n",
       "      <th>COLLISION_ID</th>\n",
       "      <th>VEHICLE TYPE CODE 1</th>\n",
       "      <th>VEHICLE TYPE CODE 2</th>\n",
       "      <th>VEHICLE TYPE CODE 3</th>\n",
       "      <th>VEHICLE TYPE CODE 4</th>\n",
       "      <th>VEHICLE TYPE CODE 5</th>\n",
       "    </tr>\n",
       "  </thead>\n",
       "  <tbody>\n",
       "    <tr>\n",
       "      <th>0</th>\n",
       "      <td>09/11/2021</td>\n",
       "      <td>2:39</td>\n",
       "      <td>NaN</td>\n",
       "      <td>NaN</td>\n",
       "      <td>NaN</td>\n",
       "      <td>NaN</td>\n",
       "      <td>NaN</td>\n",
       "      <td>WHITESTONE EXPRESSWAY</td>\n",
       "      <td>20 AVENUE</td>\n",
       "      <td>NaN</td>\n",
       "      <td>...</td>\n",
       "      <td>Unspecified</td>\n",
       "      <td>NaN</td>\n",
       "      <td>NaN</td>\n",
       "      <td>NaN</td>\n",
       "      <td>4455765</td>\n",
       "      <td>Sedan</td>\n",
       "      <td>Sedan</td>\n",
       "      <td>NaN</td>\n",
       "      <td>NaN</td>\n",
       "      <td>NaN</td>\n",
       "    </tr>\n",
       "    <tr>\n",
       "      <th>1</th>\n",
       "      <td>03/26/2022</td>\n",
       "      <td>11:45</td>\n",
       "      <td>NaN</td>\n",
       "      <td>NaN</td>\n",
       "      <td>NaN</td>\n",
       "      <td>NaN</td>\n",
       "      <td>NaN</td>\n",
       "      <td>QUEENSBORO BRIDGE UPPER</td>\n",
       "      <td>NaN</td>\n",
       "      <td>NaN</td>\n",
       "      <td>...</td>\n",
       "      <td>NaN</td>\n",
       "      <td>NaN</td>\n",
       "      <td>NaN</td>\n",
       "      <td>NaN</td>\n",
       "      <td>4513547</td>\n",
       "      <td>Sedan</td>\n",
       "      <td>NaN</td>\n",
       "      <td>NaN</td>\n",
       "      <td>NaN</td>\n",
       "      <td>NaN</td>\n",
       "    </tr>\n",
       "    <tr>\n",
       "      <th>2</th>\n",
       "      <td>11/01/2023</td>\n",
       "      <td>1:29</td>\n",
       "      <td>BROOKLYN</td>\n",
       "      <td>11230.0</td>\n",
       "      <td>40.62179</td>\n",
       "      <td>-73.970024</td>\n",
       "      <td>(40.62179, -73.970024)</td>\n",
       "      <td>OCEAN PARKWAY</td>\n",
       "      <td>AVENUE K</td>\n",
       "      <td>NaN</td>\n",
       "      <td>...</td>\n",
       "      <td>Unspecified</td>\n",
       "      <td>Unspecified</td>\n",
       "      <td>NaN</td>\n",
       "      <td>NaN</td>\n",
       "      <td>4675373</td>\n",
       "      <td>Moped</td>\n",
       "      <td>Sedan</td>\n",
       "      <td>Sedan</td>\n",
       "      <td>NaN</td>\n",
       "      <td>NaN</td>\n",
       "    </tr>\n",
       "    <tr>\n",
       "      <th>3</th>\n",
       "      <td>06/29/2022</td>\n",
       "      <td>6:55</td>\n",
       "      <td>NaN</td>\n",
       "      <td>NaN</td>\n",
       "      <td>NaN</td>\n",
       "      <td>NaN</td>\n",
       "      <td>NaN</td>\n",
       "      <td>THROGS NECK BRIDGE</td>\n",
       "      <td>NaN</td>\n",
       "      <td>NaN</td>\n",
       "      <td>...</td>\n",
       "      <td>Unspecified</td>\n",
       "      <td>NaN</td>\n",
       "      <td>NaN</td>\n",
       "      <td>NaN</td>\n",
       "      <td>4541903</td>\n",
       "      <td>Sedan</td>\n",
       "      <td>Pick-up Truck</td>\n",
       "      <td>NaN</td>\n",
       "      <td>NaN</td>\n",
       "      <td>NaN</td>\n",
       "    </tr>\n",
       "    <tr>\n",
       "      <th>4</th>\n",
       "      <td>09/21/2022</td>\n",
       "      <td>13:21</td>\n",
       "      <td>NaN</td>\n",
       "      <td>NaN</td>\n",
       "      <td>NaN</td>\n",
       "      <td>NaN</td>\n",
       "      <td>NaN</td>\n",
       "      <td>BROOKLYN BRIDGE</td>\n",
       "      <td>NaN</td>\n",
       "      <td>NaN</td>\n",
       "      <td>...</td>\n",
       "      <td>Unspecified</td>\n",
       "      <td>NaN</td>\n",
       "      <td>NaN</td>\n",
       "      <td>NaN</td>\n",
       "      <td>4566131</td>\n",
       "      <td>Station Wagon/Sport Utility Vehicle</td>\n",
       "      <td>NaN</td>\n",
       "      <td>NaN</td>\n",
       "      <td>NaN</td>\n",
       "      <td>NaN</td>\n",
       "    </tr>\n",
       "  </tbody>\n",
       "</table>\n",
       "<p>5 rows × 29 columns</p>\n",
       "</div>"
      ],
      "text/plain": [
       "   CRASH DATE CRASH TIME   BOROUGH ZIP CODE  LATITUDE  LONGITUDE  \\\n",
       "0  09/11/2021       2:39       NaN      NaN       NaN        NaN   \n",
       "1  03/26/2022      11:45       NaN      NaN       NaN        NaN   \n",
       "2  11/01/2023       1:29  BROOKLYN  11230.0  40.62179 -73.970024   \n",
       "3  06/29/2022       6:55       NaN      NaN       NaN        NaN   \n",
       "4  09/21/2022      13:21       NaN      NaN       NaN        NaN   \n",
       "\n",
       "                 LOCATION           ON STREET NAME CROSS STREET NAME  \\\n",
       "0                     NaN    WHITESTONE EXPRESSWAY         20 AVENUE   \n",
       "1                     NaN  QUEENSBORO BRIDGE UPPER               NaN   \n",
       "2  (40.62179, -73.970024)            OCEAN PARKWAY          AVENUE K   \n",
       "3                     NaN       THROGS NECK BRIDGE               NaN   \n",
       "4                     NaN          BROOKLYN BRIDGE               NaN   \n",
       "\n",
       "  OFF STREET NAME  ...  CONTRIBUTING FACTOR VEHICLE 2  \\\n",
       "0             NaN  ...                    Unspecified   \n",
       "1             NaN  ...                            NaN   \n",
       "2             NaN  ...                    Unspecified   \n",
       "3             NaN  ...                    Unspecified   \n",
       "4             NaN  ...                    Unspecified   \n",
       "\n",
       "   CONTRIBUTING FACTOR VEHICLE 3  CONTRIBUTING FACTOR VEHICLE 4  \\\n",
       "0                            NaN                            NaN   \n",
       "1                            NaN                            NaN   \n",
       "2                    Unspecified                            NaN   \n",
       "3                            NaN                            NaN   \n",
       "4                            NaN                            NaN   \n",
       "\n",
       "   CONTRIBUTING FACTOR VEHICLE 5  COLLISION_ID  \\\n",
       "0                            NaN       4455765   \n",
       "1                            NaN       4513547   \n",
       "2                            NaN       4675373   \n",
       "3                            NaN       4541903   \n",
       "4                            NaN       4566131   \n",
       "\n",
       "                   VEHICLE TYPE CODE 1  VEHICLE TYPE CODE 2  \\\n",
       "0                                Sedan                Sedan   \n",
       "1                                Sedan                  NaN   \n",
       "2                                Moped                Sedan   \n",
       "3                                Sedan        Pick-up Truck   \n",
       "4  Station Wagon/Sport Utility Vehicle                  NaN   \n",
       "\n",
       "   VEHICLE TYPE CODE 3 VEHICLE TYPE CODE 4 VEHICLE TYPE CODE 5  \n",
       "0                  NaN                 NaN                 NaN  \n",
       "1                  NaN                 NaN                 NaN  \n",
       "2                Sedan                 NaN                 NaN  \n",
       "3                  NaN                 NaN                 NaN  \n",
       "4                  NaN                 NaN                 NaN  \n",
       "\n",
       "[5 rows x 29 columns]"
      ]
     },
     "execution_count": 63,
     "metadata": {},
     "output_type": "execute_result"
    }
   ],
   "source": [
    "nypd_data.head()"
   ]
  },
  {
   "cell_type": "code",
   "execution_count": 64,
   "metadata": {},
   "outputs": [
    {
     "data": {
      "text/plain": [
       "CRASH DATE                             0\n",
       "CRASH TIME                             0\n",
       "BOROUGH                           667542\n",
       "ZIP CODE                          667810\n",
       "LATITUDE                          239669\n",
       "LONGITUDE                         239669\n",
       "LOCATION                          239669\n",
       "ON STREET NAME                    463881\n",
       "CROSS STREET NAME                 822431\n",
       "OFF STREET NAME                  1784849\n",
       "NUMBER OF PERSONS INJURED             18\n",
       "NUMBER OF PERSONS KILLED              31\n",
       "NUMBER OF PEDESTRIANS INJURED          0\n",
       "NUMBER OF PEDESTRIANS KILLED           0\n",
       "NUMBER OF CYCLIST INJURED              0\n",
       "NUMBER OF CYCLIST KILLED               0\n",
       "NUMBER OF MOTORIST INJURED             0\n",
       "NUMBER OF MOTORIST KILLED              0\n",
       "CONTRIBUTING FACTOR VEHICLE 1       7385\n",
       "CONTRIBUTING FACTOR VEHICLE 2     341236\n",
       "CONTRIBUTING FACTOR VEHICLE 3    2000923\n",
       "CONTRIBUTING FACTOR VEHICLE 4    2120972\n",
       "CONTRIBUTING FACTOR VEHICLE 5    2146690\n",
       "COLLISION_ID                           0\n",
       "VEHICLE TYPE CODE 1                15099\n",
       "VEHICLE TYPE CODE 2               424104\n",
       "VEHICLE TYPE CODE 3              2006810\n",
       "VEHICLE TYPE CODE 4              2122243\n",
       "VEHICLE TYPE CODE 5              2146990\n",
       "dtype: int64"
      ]
     },
     "execution_count": 64,
     "metadata": {},
     "output_type": "execute_result"
    }
   ],
   "source": [
    "nypd_data.isnull().sum()\n"
   ]
  },
  {
   "cell_type": "code",
   "execution_count": 65,
   "metadata": {},
   "outputs": [
    {
     "data": {
      "text/plain": [
       "Index(['CRASH DATE', 'CRASH TIME', 'BOROUGH', 'ZIP CODE', 'LATITUDE',\n",
       "       'LONGITUDE', 'LOCATION', 'ON STREET NAME', 'CROSS STREET NAME',\n",
       "       'OFF STREET NAME', 'NUMBER OF PERSONS INJURED',\n",
       "       'NUMBER OF PERSONS KILLED', 'NUMBER OF PEDESTRIANS INJURED',\n",
       "       'NUMBER OF PEDESTRIANS KILLED', 'NUMBER OF CYCLIST INJURED',\n",
       "       'NUMBER OF CYCLIST KILLED', 'NUMBER OF MOTORIST INJURED',\n",
       "       'NUMBER OF MOTORIST KILLED', 'CONTRIBUTING FACTOR VEHICLE 1',\n",
       "       'CONTRIBUTING FACTOR VEHICLE 2', 'CONTRIBUTING FACTOR VEHICLE 3',\n",
       "       'CONTRIBUTING FACTOR VEHICLE 4', 'CONTRIBUTING FACTOR VEHICLE 5',\n",
       "       'COLLISION_ID', 'VEHICLE TYPE CODE 1', 'VEHICLE TYPE CODE 2',\n",
       "       'VEHICLE TYPE CODE 3', 'VEHICLE TYPE CODE 4', 'VEHICLE TYPE CODE 5'],\n",
       "      dtype='object')"
      ]
     },
     "execution_count": 65,
     "metadata": {},
     "output_type": "execute_result"
    }
   ],
   "source": [
    "nypd_data.columns"
   ]
  },
  {
   "cell_type": "code",
   "execution_count": 66,
   "metadata": {},
   "outputs": [],
   "source": [
    "#Some columns have extreme levels of missing values (>80%), making them less useful for analysis.\n",
    "nypd_data_cleaned = nypd_data.drop(columns=['CROSS STREET NAME','OFF STREET NAME',\n",
    "                                            'CONTRIBUTING FACTOR VEHICLE 3','CONTRIBUTING FACTOR VEHICLE 4', 'CONTRIBUTING FACTOR VEHICLE 5',\n",
    "                                            'VEHICLE TYPE CODE 3', 'VEHICLE TYPE CODE 4', 'VEHICLE TYPE CODE 5'])\n"
   ]
  },
  {
   "cell_type": "code",
   "execution_count": 67,
   "metadata": {},
   "outputs": [],
   "source": [
    "# Drop rows where LATITUDE & LONGITUDE are both missing\n",
    "nypd_data_cleaned = nypd_data_cleaned.dropna(subset=['LATITUDE', 'LONGITUDE'])\n"
   ]
  },
  {
   "cell_type": "code",
   "execution_count": 68,
   "metadata": {},
   "outputs": [],
   "source": [
    "# Fill missing values using borough-based median coordinates (if borough is known)\n",
    "#ie. if we have the lat and long for one of the observations of borough and the others are null, then we can impute using the same. \n",
    "nypd_data_cleaned['LATITUDE'] = nypd_data_cleaned.groupby('BOROUGH')['LATITUDE'].transform(lambda x: x.fillna(x.median()))\n",
    "nypd_data_cleaned['LONGITUDE'] = nypd_data_cleaned.groupby('BOROUGH')['LONGITUDE'].transform(lambda x: x.fillna(x.median()))\n"
   ]
  },
  {
   "cell_type": "code",
   "execution_count": 69,
   "metadata": {},
   "outputs": [],
   "source": [
    "# Define columns that need to be filled with \"Unknown\"\n",
    "fill_unknown_cols = [\n",
    "    'BOROUGH', 'ZIP CODE', 'ON STREET NAME', \n",
    "    'CONTRIBUTING FACTOR VEHICLE 1', 'CONTRIBUTING FACTOR VEHICLE 2',\n",
    "    'VEHICLE TYPE CODE 1', 'VEHICLE TYPE CODE 2'\n",
    "]\n",
    "\n",
    "# Fill missing values for these columns\n",
    "nypd_data_cleaned[fill_unknown_cols] = nypd_data_cleaned[fill_unknown_cols].fillna(\"Unknown\")\n"
   ]
  },
  {
   "cell_type": "code",
   "execution_count": 70,
   "metadata": {},
   "outputs": [],
   "source": [
    "# columns are necessary because it is Needed for risk assessment\n",
    "injury_cols = ['NUMBER OF PERSONS INJURED','NUMBER OF PERSONS KILLED',\n",
    "               'NUMBER OF CYCLIST INJURED','NUMBER OF CYCLIST KILLED',\n",
    "               'NUMBER OF MOTORIST INJURED','NUMBER OF MOTORIST KILLED']\n",
    "nypd_data_cleaned.loc[:,injury_cols] = nypd_data_cleaned[injury_cols].fillna(0).astype(int)"
   ]
  },
  {
   "cell_type": "code",
   "execution_count": 71,
   "metadata": {},
   "outputs": [],
   "source": [
    "# Define NYC's approximate lat/lng boundaries\n",
    "NYC_LAT_MIN, NYC_LAT_MAX = 40.5, 40.9\n",
    "NYC_LNG_MIN, NYC_LNG_MAX = -74.2, -73.7\n",
    "\n",
    "# Filter valid geolocation data\n",
    "nypd_data_cleaned = nypd_data_cleaned[\n",
    "    (nypd_data_cleaned['LATITUDE'].between(NYC_LAT_MIN, NYC_LAT_MAX)) &\n",
    "    (nypd_data_cleaned['LONGITUDE'].between(NYC_LNG_MIN, NYC_LNG_MAX))\n",
    "]\n"
   ]
  },
  {
   "cell_type": "code",
   "execution_count": 72,
   "metadata": {},
   "outputs": [
    {
     "data": {
      "text/plain": [
       "CRASH DATE                       0\n",
       "CRASH TIME                       0\n",
       "BOROUGH                          0\n",
       "ZIP CODE                         0\n",
       "LATITUDE                         0\n",
       "LONGITUDE                        0\n",
       "LOCATION                         0\n",
       "ON STREET NAME                   0\n",
       "NUMBER OF PERSONS INJURED        0\n",
       "NUMBER OF PERSONS KILLED         0\n",
       "NUMBER OF PEDESTRIANS INJURED    0\n",
       "NUMBER OF PEDESTRIANS KILLED     0\n",
       "NUMBER OF CYCLIST INJURED        0\n",
       "NUMBER OF CYCLIST KILLED         0\n",
       "NUMBER OF MOTORIST INJURED       0\n",
       "NUMBER OF MOTORIST KILLED        0\n",
       "CONTRIBUTING FACTOR VEHICLE 1    0\n",
       "CONTRIBUTING FACTOR VEHICLE 2    0\n",
       "COLLISION_ID                     0\n",
       "VEHICLE TYPE CODE 1              0\n",
       "VEHICLE TYPE CODE 2              0\n",
       "dtype: int64"
      ]
     },
     "execution_count": 72,
     "metadata": {},
     "output_type": "execute_result"
    }
   ],
   "source": [
    "# Check if missing values remain\n",
    "nypd_data_cleaned.isnull().sum()\n"
   ]
  },
  {
   "cell_type": "code",
   "execution_count": 74,
   "metadata": {},
   "outputs": [
    {
     "name": "stdout",
     "output_type": "stream",
     "text": [
      "(1437817, 21)\n",
      "(2156357, 29)\n"
     ]
    }
   ],
   "source": [
    "print(nypd_data_cleaned.shape)\n",
    "print(nypd_data.shape)"
   ]
  },
  {
   "cell_type": "code",
   "execution_count": 75,
   "metadata": {},
   "outputs": [],
   "source": [
    "# Save as CSV\n",
    "nypd_data_cleaned.to_csv(r\"/Users/shashankhmg/Documents/AXA-Casestudy/Data-Science-Challenge/data/processed/nypd_data_cleaned.csv\", index=False)"
   ]
  },
  {
   "cell_type": "markdown",
   "metadata": {},
   "source": [
    "# EDA"
   ]
  },
  {
   "cell_type": "code",
   "execution_count": 79,
   "metadata": {},
   "outputs": [
    {
     "name": "stdout",
     "output_type": "stream",
     "text": [
      " Heatmap saved as 'cyclist_accident_heatmap.html'\n"
     ]
    }
   ],
   "source": [
    "#Visualizing High-Risk Accident Zones (Geospatial Heatmap)\n",
    "# Create an Accident Heatmap Using Folium\n",
    "\n",
    "import folium\n",
    "import pandas as pd\n",
    "from folium.plugins import HeatMap\n",
    "\n",
    "# Filter for accidents involving cyclists\n",
    "cyclist_accidents = nypd_data_cleaned[\n",
    "    (nypd_data_cleaned['NUMBER OF CYCLIST INJURED'] > 0) | \n",
    "    (nypd_data_cleaned['NUMBER OF CYCLIST KILLED'] > 0)\n",
    "]\n",
    "\n",
    "# Create base map centered around NYC\n",
    "nyc_map = folium.Map(location=[40.75, -73.98], zoom_start=12)\n",
    "\n",
    "# Extract accident locations for heatmap\n",
    "heatmap_data = cyclist_accidents[['LATITUDE', 'LONGITUDE']].dropna().values.tolist()\n",
    "\n",
    "# Add heatmap layer\n",
    "HeatMap(heatmap_data, radius=10, blur=15, max_zoom=1).add_to(nyc_map)\n",
    "\n",
    "# Save the heatmap\n",
    "nyc_map.save(\"cyclist_accident_heatmap.html\")\n",
    "print(\" Heatmap saved as 'cyclist_accident_heatmap.html'\")\n"
   ]
  },
  {
   "cell_type": "code",
   "execution_count": null,
   "metadata": {},
   "outputs": [],
   "source": []
  }
 ],
 "metadata": {
  "kernelspec": {
   "display_name": ".venv",
   "language": "python",
   "name": "python3"
  },
  "language_info": {
   "codemirror_mode": {
    "name": "ipython",
    "version": 3
   },
   "file_extension": ".py",
   "mimetype": "text/x-python",
   "name": "python",
   "nbconvert_exporter": "python",
   "pygments_lexer": "ipython3",
   "version": "3.12.4"
  }
 },
 "nbformat": 4,
 "nbformat_minor": 2
}
